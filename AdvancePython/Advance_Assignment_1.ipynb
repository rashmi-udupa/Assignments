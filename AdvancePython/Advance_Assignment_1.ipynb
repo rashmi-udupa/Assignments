{
 "cells": [
  {
   "cell_type": "markdown",
   "metadata": {},
   "source": [
    "##### Q1. What is the purpose of Python's OOP?"
   ]
  },
  {
   "cell_type": "markdown",
   "metadata": {},
   "source": [
    "Object Oriented means directed towards objects.It is one of the best techniques used for modelling complex systems.\n",
    "Object-Oriented Python, The heart of Python programming is a way of programming that focuses on using objects and classes to design and build applications. Major pillars of Object Oriented Programming (OOP) are Inheritance, Polymorphism, Data Abstraction, and Encapsulation.\n",
    "\n",
    "Python was designed with OOP approach and it offers the following advantages:\n",
    "1. Provides a clear program structure and a clean code\n",
    "2. Facilitates easy maintenance and modification of existing code\n",
    "3. Since the class is sharable, the code can be reused and many other such Advantages."
   ]
  },
  {
   "cell_type": "markdown",
   "metadata": {},
   "source": [
    "##### Q2. Where does an inheritance search look for an attribute?"
   ]
  },
  {
   "cell_type": "markdown",
   "metadata": {},
   "source": [
    "Inheritance is the procedure in which one class inherits the attributes and methods of another class. The class whose properties and methods are inherited is known as the Parent class. And the class that inherits the properties from the parent class is the Child class."
   ]
  },
  {
   "cell_type": "markdown",
   "metadata": {},
   "source": [
    "##### Q3. How do you distinguish between a class object and an instance object?"
   ]
  },
  {
   "cell_type": "markdown",
   "metadata": {},
   "source": [
    "Class\t\n",
    "A class is a blueprint from which you can create the instance, i.e., objects. A class is used to bind data as well as methods together as a single unit. Classes have logical existence.\n",
    "\n",
    "Object\n",
    "Object acts like a variable of the class. An object is the instance of the class, which helps programmers to use variables and methods from inside the class. Objects have a physical existence.\n"
   ]
  },
  {
   "cell_type": "markdown",
   "metadata": {},
   "source": [
    "##### Q4. What makes the first argument in a class’s method function special?"
   ]
  },
  {
   "cell_type": "markdown",
   "metadata": {},
   "source": [
    "First Argument uses init constructor to initialise the objects. It is run as soon as an object of a class is instantiated. The method is useful to do any initialization you want to do with your object."
   ]
  },
  {
   "cell_type": "markdown",
   "metadata": {},
   "source": [
    "##### Q5. What is the purpose of the __init__ method?"
   ]
  },
  {
   "cell_type": "markdown",
   "metadata": {},
   "source": [
    "Init constructor is used to initialise the objects. It is run as soon as an object of a class is instantiated. The method is useful to do any initialization you want to do with your object."
   ]
  },
  {
   "cell_type": "markdown",
   "metadata": {},
   "source": [
    "##### Q6. What is the process for creating a class instance? "
   ]
  },
  {
   "cell_type": "markdown",
   "metadata": {},
   "source": [
    "When we call a class, instance object is created.\n",
    "\n",
    "Ex:- class MyClass:\n",
    "        \n",
    "        pass\n",
    "    \n",
    "to call this class,\n",
    "\n",
    "object1 = MyClass()\n",
    "\n",
    "Now object1 is the instance object"
   ]
  },
  {
   "cell_type": "markdown",
   "metadata": {},
   "source": [
    "###### Q7. What is the process for creating a class?"
   ]
  },
  {
   "cell_type": "markdown",
   "metadata": {},
   "source": [
    "class can be created by writing class\n",
    "\n",
    "ex:- class Car:\n",
    "        \n",
    "        def __init__(self,name):\n",
    "        \n",
    "            self.name=name\n",
    "            \n",
    "        def displayCarName :\n",
    "        \n",
    "            print (\"The name of the car is \", self.name)"
   ]
  },
  {
   "cell_type": "markdown",
   "metadata": {},
   "source": [
    "###### Q8. How would you define the superclasses of a class?"
   ]
  },
  {
   "cell_type": "markdown",
   "metadata": {},
   "source": [
    "A superclass is the class from which many subclasses can be created. The subclasses inherit the characteristics of a superclass. The superclass is also known as the parent class or base class."
   ]
  },
  {
   "cell_type": "code",
   "execution_count": null,
   "metadata": {},
   "outputs": [],
   "source": []
  }
 ],
 "metadata": {
  "kernelspec": {
   "display_name": "Python 3",
   "language": "python",
   "name": "python3"
  },
  "language_info": {
   "codemirror_mode": {
    "name": "ipython",
    "version": 3
   },
   "file_extension": ".py",
   "mimetype": "text/x-python",
   "name": "python",
   "nbconvert_exporter": "python",
   "pygments_lexer": "ipython3",
   "version": "3.8.3"
  }
 },
 "nbformat": 4,
 "nbformat_minor": 4
}
